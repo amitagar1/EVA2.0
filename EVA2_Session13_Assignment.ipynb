{
  "nbformat": 4,
  "nbformat_minor": 0,
  "metadata": {
    "colab": {
      "name": "EVA2_Session13_Assignment.ipynb",
      "provenance": [],
      "collapsed_sections": [],
      "toc_visible": true,
      "include_colab_link": true
    },
    "kernelspec": {
      "name": "python3",
      "display_name": "Python 3"
    },
    "accelerator": "GPU"
  },
  "cells": [
    {
      "cell_type": "markdown",
      "metadata": {
        "id": "view-in-github",
        "colab_type": "text"
      },
      "source": [
        "<a href=\"https://colab.research.google.com/github/amitagar1/EVA2.0/blob/master/EVA2_Session13_Assignment.ipynb\" target=\"_parent\"><img src=\"https://colab.research.google.com/assets/colab-badge.svg\" alt=\"Open In Colab\"/></a>"
      ]
    },
    {
      "cell_type": "code",
      "metadata": {
        "id": "EjOhrB-rNQlr",
        "colab_type": "code",
        "outputId": "59411e1f-7cb7-44a1-e474-2e19f6f70279",
        "colab": {
          "base_uri": "https://localhost:8080/",
          "height": 90
        }
      },
      "source": [
        "import keras\n",
        "import numpy as np\n",
        "import tensorflow as tf\n",
        "from keras import layers\n",
        "from keras.layers import Input, Add, Dense, Activation, ZeroPadding2D, BatchNormalization, Flatten, Conv2D, AveragePooling2D, MaxPooling2D, GlobalMaxPooling2D\n",
        "from keras.models import Model, load_model\n",
        "from keras.preprocessing import image\n",
        "from keras.utils import layer_utils\n",
        "from keras.utils.data_utils import get_file\n",
        "from keras.applications.imagenet_utils import preprocess_input\n",
        "import pydot\n",
        "from IPython.display import SVG\n",
        "from keras.utils.vis_utils import model_to_dot\n",
        "from keras.utils import plot_model\n",
        "#from resnets_utils import *\n",
        "from keras.initializers import glorot_uniform\n",
        "import scipy.misc\n",
        "from matplotlib.pyplot import imshow\n",
        "%matplotlib inline\n",
        "import keras.backend as K\n",
        "K.set_image_data_format('channels_last')\n",
        "K.set_learning_phase(1)\n",
        "from keras.optimizers import SGD "
      ],
      "execution_count": 1,
      "outputs": [
        {
          "output_type": "stream",
          "text": [
            "Using TensorFlow backend.\n"
          ],
          "name": "stderr"
        },
        {
          "output_type": "stream",
          "text": [
            "WARNING:tensorflow:From /usr/local/lib/python3.6/dist-packages/keras/backend/tensorflow_backend.py:66: The name tf.get_default_graph is deprecated. Please use tf.compat.v1.get_default_graph instead.\n",
            "\n"
          ],
          "name": "stdout"
        }
      ]
    },
    {
      "cell_type": "code",
      "metadata": {
        "id": "DxbvKXE7NkQU",
        "colab_type": "code",
        "outputId": "9c883c67-3a00-4caf-f23e-fe66f89e9c90",
        "colab": {
          "base_uri": "https://localhost:8080/",
          "height": 52
        }
      },
      "source": [
        "#(x_train, y_train), (x_test, y_test) = tf.keras.datasets.cifar10.load_data()\n",
        "#n_train, n_test = X_train.shape[0], X_test.shape[0]\n",
        "#img_size = X_train.shape[1]\n",
        "#n_classes = y_train.max() + 1\n",
        "\n",
        "# Load CIFAR10 Data\n",
        "(x_train, y_train), (x_test, y_test) = tf.keras.datasets.cifar10.load_data()\n",
        "x_train = x_train.astype('float32')\n",
        "x_test = x_test.astype('float32')\n",
        "x_train /= 255.\n",
        "x_test /= 255.\n",
        "\n",
        "img_height, img_width, channel = x_train.shape[1],x_train.shape[2],x_train.shape[3]\n",
        "num_classes = 10\n",
        "# convert to one hot encoing \n",
        "y_train = keras.utils.to_categorical(y_train, num_classes)\n",
        "y_test = keras.utils.to_categorical(y_test, num_classes)"
      ],
      "execution_count": 2,
      "outputs": [
        {
          "output_type": "stream",
          "text": [
            "Downloading data from https://www.cs.toronto.edu/~kriz/cifar-10-python.tar.gz\n",
            "170500096/170498071 [==============================] - 11s 0us/step\n"
          ],
          "name": "stdout"
        }
      ]
    },
    {
      "cell_type": "markdown",
      "metadata": {
        "id": "dhTCcSPNBWp6",
        "colab_type": "text"
      },
      "source": [
        "#Data Normalization"
      ]
    },
    {
      "cell_type": "code",
      "metadata": {
        "id": "sN1dExeMA6RN",
        "colab_type": "code",
        "colab": {}
      },
      "source": [
        "x_train_mean = np.mean(x_train, axis=(0,1,2))\n",
        "x_train_std = np.std(x_train, axis=(0,1,2))\n",
        "x_train = (x_train - x_train_mean) / x_train_std\n",
        "x_test = (x_test - x_train_mean) / x_train_std"
      ],
      "execution_count": 0,
      "outputs": []
    },
    {
      "cell_type": "code",
      "metadata": {
        "id": "1_2UVJZ4BFSk",
        "colab_type": "code",
        "outputId": "8e53fea4-ae02-4be9-ef0c-c01ab830b7a8",
        "colab": {
          "base_uri": "https://localhost:8080/",
          "height": 35
        }
      },
      "source": [
        "x_train.shape"
      ],
      "execution_count": 0,
      "outputs": [
        {
          "output_type": "execute_result",
          "data": {
            "text/plain": [
              "(50000, 32, 32, 3)"
            ]
          },
          "metadata": {
            "tags": []
          },
          "execution_count": 79
        }
      ]
    },
    {
      "cell_type": "code",
      "metadata": {
        "id": "fo2z2ROZ_jIS",
        "colab_type": "code",
        "colab": {}
      },
      "source": [
        "def pad(x, pad=4):\n",
        "    return np.pad(x, ((0,0), (pad,pad),(pad,pad),(0,0)), mode='reflect')"
      ],
      "execution_count": 0,
      "outputs": []
    },
    {
      "cell_type": "code",
      "metadata": {
        "id": "rjNyCqZY_kZD",
        "colab_type": "code",
        "colab": {}
      },
      "source": [
        "X_train = pad(X_train_0)\n",
        "X_test= pad(X_test_0)"
      ],
      "execution_count": 0,
      "outputs": []
    },
    {
      "cell_type": "code",
      "metadata": {
        "id": "dmrpOqOUxlr3",
        "colab_type": "code",
        "outputId": "0da1473c-2762-480b-c738-ea30c5880695",
        "colab": {
          "base_uri": "https://localhost:8080/",
          "height": 35
        }
      },
      "source": [
        "X_train.shape"
      ],
      "execution_count": 0,
      "outputs": [
        {
          "output_type": "execute_result",
          "data": {
            "text/plain": [
              "(50000, 32, 32, 3)"
            ]
          },
          "metadata": {
            "tags": []
          },
          "execution_count": 50
        }
      ]
    },
    {
      "cell_type": "markdown",
      "metadata": {
        "id": "yD6ARh-vFktS",
        "colab_type": "text"
      },
      "source": [
        ""
      ]
    },
    {
      "cell_type": "markdown",
      "metadata": {
        "id": "-o7HBB1LFgDi",
        "colab_type": "text"
      },
      "source": [
        "# Data Agumentation - Work In Progress"
      ]
    },
    {
      "cell_type": "code",
      "metadata": {
        "id": "JJI_5oFPFeYB",
        "colab_type": "code",
        "colab": {}
      },
      "source": [
        "# Data Preparation\n",
        "from keras.preprocessing.image import ImageDataGenerator\n",
        "datagen = ImageDataGenerator(\n",
        "    featurewise_center=False,\n",
        "    featurewise_std_normalization=False,\n",
        "    rotation_range=20,\n",
        "    horizontal_flip=(True, .5),\n",
        "    #preprocessing_function=get_random_eraser(p=0.5, s_l=0.02, s_h=0.4, r_1=0.3, r_2=1/0.3,\n",
        "                 # v_l=0, v_h=255, pixel_level=False)\n",
        "    )\n"
      ],
      "execution_count": 0,
      "outputs": []
    },
    {
      "cell_type": "code",
      "metadata": {
        "id": "g5d95k5SoBQB",
        "colab_type": "code",
        "colab": {}
      },
      "source": [
        "def crop_generator(xy_gen, crop_length):\n",
        "    while True:\n",
        "        x, y = next(xy_gen)\n",
        "        batch_crops = np.zeros((5, crop_length, crop_length, 3))\n",
        "        batch_ys = np.tile(y, (5, 1))  # repeat 'y' 5 times\n",
        "        for i in range(5):\n",
        "            batch_crops[i] = random_crop(x, (crop_length, crop_length))\n",
        "        yield (batch_crops, batch_ys)\n",
        "        \n",
        "def crop_generator(batches, crop_length):\n",
        "    \"\"\"Take as input a Keras ImageGen (Iterator) and generate random\n",
        "    crops from the image batches generated by the original iterator.\n",
        "    \"\"\"\n",
        "    while True:\n",
        "        batch_x, batch_y = next(batches)\n",
        "        batch_crops = np.zeros((batch_x.shape[0], crop_length, crop_length, 3))\n",
        "        for i in range(batch_x.shape[0]):\n",
        "            batch_crops[i] = random_crop(batch_x[i], (crop_length, crop_length))\n",
        "        yield (batch_crops, batch_y)\n",
        "\n",
        "train_xy_generator = train_datagen.flow_from_directory(\n",
        "    DATASET_PATH + '/train',\n",
        "    target_size=None,               # don't rescale original image\n",
        "    class_mode='categorical',\n",
        "    shuffle=True,\n",
        "    batch_size=1)"
      ],
      "execution_count": 0,
      "outputs": []
    },
    {
      "cell_type": "code",
      "metadata": {
        "id": "LY6gZmjloHU6",
        "colab_type": "code",
        "colab": {}
      },
      "source": [
        "def random_crop(img, random_crop_size):\n",
        "    # Note: image_data_format is 'channel_last'\n",
        "    assert img.shape[2] == 3\n",
        "    height, width = img.shape[0], img.shape[1]\n",
        "    dy, dx = random_crop_size\n",
        "    x = np.random.randint(0, width - dx + 1)\n",
        "    y = np.random.randint(0, height - dy + 1)\n",
        "    return img[y:(y+dy), x:(x+dx), :]\n",
        "\n",
        "\n",
        "def crop_generator(batches, crop_length):\n",
        "    \"\"\"Take as input a Keras ImageGen (Iterator) and generate random\n",
        "    crops from the image batches generated by the original iterator.\n",
        "    \"\"\"\n",
        "    while True:\n",
        "        batch_x, batch_y = next(batches)\n",
        "        batch_crops = np.zeros((batch_x.shape[0], crop_length, crop_length, 3))\n",
        "        for i in range(batch_x.shape[0]):\n",
        "            batch_crops[i] = random_crop(batch_x[i], (crop_length, crop_length))\n",
        "        yield (batch_crops, batch_y)"
      ],
      "execution_count": 0,
      "outputs": []
    },
    {
      "cell_type": "markdown",
      "metadata": {
        "id": "rYM02ntRE27H",
        "colab_type": "text"
      },
      "source": [
        "# ResNet Implementation"
      ]
    },
    {
      "cell_type": "code",
      "metadata": {
        "id": "-foENBtREo9S",
        "colab_type": "code",
        "colab": {}
      },
      "source": [
        "def identity_block(X, f, filters, stage, block, s):\n",
        "# defining name basis\n",
        "  conv_name_base = 'res' + str(stage) + block + '_branch'\n",
        "  bn_name_base = 'bn' + str(stage) + block + '_branch'\n",
        "# Retrieve Filters\n",
        "  F1, F2 = filters   \n",
        "# Save the input value. You'll need this later to add back to the main path. \n",
        "  X_shortcut = X    \n",
        "# First Block\n",
        "  X = Conv2D(filters = F1, kernel_size = (f, f), strides = (s,s), padding = 'same', name = conv_name_base + '2a', kernel_initializer = glorot_uniform(seed=0))(X)\n",
        "  X = BatchNormalization(axis = 3, name = bn_name_base + 'a')(X)\n",
        "  X = Activation('relu')(X)    \n",
        "# Second Block component of main path (≈2 lines)\n",
        "  X = Conv2D(filters = F2, kernel_size = (1, 1), strides = (1,1), padding = 'same', name = conv_name_base + '2c', kernel_initializer = glorot_uniform(seed=0))(X)\n",
        "  X = BatchNormalization(axis = 3, name = bn_name_base + 'b')(X)\n",
        "# Addition Block\n",
        "  X_shortcut = Conv2D(filters = F2, kernel_size = (1, 1), strides = (s,s), padding = 'valid', name = conv_name_base + '1',\n",
        "                        kernel_initializer = glorot_uniform(seed=0))(X_shortcut)\n",
        "  X_shortcut = BatchNormalization(axis = 3, name = bn_name_base + '1')(X_shortcut)\n",
        "\n",
        "  X = Add()([X, X_shortcut])\n",
        "  X = Activation('relu')(X)       \n",
        "  return X"
      ],
      "execution_count": 0,
      "outputs": []
    },
    {
      "cell_type": "code",
      "metadata": {
        "id": "XS14OhnwEpPg",
        "colab_type": "code",
        "colab": {}
      },
      "source": [
        "def ResNet_model(input_shape=(32, 32, 3), classes=10):\n",
        " # Define the input as a tensor with shape input_shape\n",
        "  X_input = Input(input_shape)\n",
        "# Zero-Padding\n",
        " # X = ZeroPadding2D((3, 3))(X_input)\n",
        "# Conv_Layer\n",
        "  X = Conv2D(64, (3, 3), strides=(1, 1), padding = 'same', name='conv1', kernel_initializer=glorot_uniform(seed=0))(X_input)\n",
        "  X = BatchNormalization(axis=3, name='bn_conv1')(X)\n",
        "  X = Activation('relu')(X)\n",
        "#ResLayer_1_2Blocks_addition\n",
        "  X = identity_block(X, 3, [64,128],s=1, stage=2, block='a')  \n",
        "#ResLayer_2_2Blocks_addition\n",
        "  X = identity_block(X, 3, [128,256],s=2, stage=3, block='a')  \n",
        "# ResLayer_3_2Blocks_addition\n",
        "  X = identity_block(X, 3, [256,512 ],s=2, stage=4, block='a')\n",
        "# ResLayer_4_2Blocks_addition\n",
        "  X = identity_block(X, 3, [512,512],s=1, stage=5, block='a')\n",
        "  X = AveragePooling2D((8,8), name=\"avg_pool\")(X)\n",
        "# output layer\n",
        "  X = Flatten()(X)\n",
        "  X = Dense(classes, activation='softmax', name='fc' + str(classes), kernel_initializer = glorot_uniform(seed=0))(X) \n",
        "# Create model\n",
        "  model = Model(inputs = X_input, outputs = X, name='ResNet18')\n",
        "  return model"
      ],
      "execution_count": 0,
      "outputs": []
    },
    {
      "cell_type": "code",
      "metadata": {
        "id": "0hGkkwuWw6Jd",
        "colab_type": "code",
        "outputId": "2c9341c2-f9c0-4dad-90cb-2fc2ffc43e2d",
        "colab": {
          "base_uri": "https://localhost:8080/",
          "height": 392
        }
      },
      "source": [
        "model = ResNet50(input_shape = (32, 32, 3), classes = 10)"
      ],
      "execution_count": 0,
      "outputs": [
        {
          "output_type": "stream",
          "text": [
            "WARNING:tensorflow:From /usr/local/lib/python3.6/dist-packages/keras/backend/tensorflow_backend.py:541: The name tf.placeholder is deprecated. Please use tf.compat.v1.placeholder instead.\n",
            "\n",
            "WARNING:tensorflow:From /usr/local/lib/python3.6/dist-packages/keras/backend/tensorflow_backend.py:4432: The name tf.random_uniform is deprecated. Please use tf.random.uniform instead.\n",
            "\n",
            "WARNING:tensorflow:From /usr/local/lib/python3.6/dist-packages/keras/backend/tensorflow_backend.py:190: The name tf.get_default_session is deprecated. Please use tf.compat.v1.get_default_session instead.\n",
            "\n",
            "WARNING:tensorflow:From /usr/local/lib/python3.6/dist-packages/keras/backend/tensorflow_backend.py:197: The name tf.ConfigProto is deprecated. Please use tf.compat.v1.ConfigProto instead.\n",
            "\n",
            "WARNING:tensorflow:From /usr/local/lib/python3.6/dist-packages/keras/backend/tensorflow_backend.py:203: The name tf.Session is deprecated. Please use tf.compat.v1.Session instead.\n",
            "\n",
            "WARNING:tensorflow:From /usr/local/lib/python3.6/dist-packages/keras/backend/tensorflow_backend.py:207: The name tf.global_variables is deprecated. Please use tf.compat.v1.global_variables instead.\n",
            "\n",
            "WARNING:tensorflow:From /usr/local/lib/python3.6/dist-packages/keras/backend/tensorflow_backend.py:216: The name tf.is_variable_initialized is deprecated. Please use tf.compat.v1.is_variable_initialized instead.\n",
            "\n",
            "WARNING:tensorflow:From /usr/local/lib/python3.6/dist-packages/keras/backend/tensorflow_backend.py:223: The name tf.variables_initializer is deprecated. Please use tf.compat.v1.variables_initializer instead.\n",
            "\n",
            "WARNING:tensorflow:From /usr/local/lib/python3.6/dist-packages/keras/backend/tensorflow_backend.py:2041: The name tf.nn.fused_batch_norm is deprecated. Please use tf.compat.v1.nn.fused_batch_norm instead.\n",
            "\n",
            "WARNING:tensorflow:From /usr/local/lib/python3.6/dist-packages/keras/backend/tensorflow_backend.py:4271: The name tf.nn.avg_pool is deprecated. Please use tf.nn.avg_pool2d instead.\n",
            "\n"
          ],
          "name": "stdout"
        }
      ]
    },
    {
      "cell_type": "code",
      "metadata": {
        "id": "3Wal2nWW0REw",
        "colab_type": "code",
        "outputId": "2376650b-0246-484f-b3c0-9f251c03bd47",
        "colab": {
          "base_uri": "https://localhost:8080/",
          "height": 1000
        }
      },
      "source": [
        "model.summary()"
      ],
      "execution_count": 0,
      "outputs": [
        {
          "output_type": "stream",
          "text": [
            "Model: \"ResNet18\"\n",
            "__________________________________________________________________________________________________\n",
            "Layer (type)                    Output Shape         Param #     Connected to                     \n",
            "==================================================================================================\n",
            "input_1 (InputLayer)            (None, 32, 32, 3)    0                                            \n",
            "__________________________________________________________________________________________________\n",
            "conv1 (Conv2D)                  (None, 32, 32, 64)   1792        input_1[0][0]                    \n",
            "__________________________________________________________________________________________________\n",
            "bn_conv1 (BatchNormalization)   (None, 32, 32, 64)   256         conv1[0][0]                      \n",
            "__________________________________________________________________________________________________\n",
            "activation_1 (Activation)       (None, 32, 32, 64)   0           bn_conv1[0][0]                   \n",
            "__________________________________________________________________________________________________\n",
            "res2a_branch2a (Conv2D)         (None, 32, 32, 64)   36928       activation_1[0][0]               \n",
            "__________________________________________________________________________________________________\n",
            "bn2a_brancha (BatchNormalizatio (None, 32, 32, 64)   256         res2a_branch2a[0][0]             \n",
            "__________________________________________________________________________________________________\n",
            "activation_2 (Activation)       (None, 32, 32, 64)   0           bn2a_brancha[0][0]               \n",
            "__________________________________________________________________________________________________\n",
            "res2a_branch2c (Conv2D)         (None, 32, 32, 128)  8320        activation_2[0][0]               \n",
            "__________________________________________________________________________________________________\n",
            "res2a_branch1 (Conv2D)          (None, 32, 32, 128)  8320        activation_1[0][0]               \n",
            "__________________________________________________________________________________________________\n",
            "bn2a_branchb (BatchNormalizatio (None, 32, 32, 128)  512         res2a_branch2c[0][0]             \n",
            "__________________________________________________________________________________________________\n",
            "bn2a_branch1 (BatchNormalizatio (None, 32, 32, 128)  512         res2a_branch1[0][0]              \n",
            "__________________________________________________________________________________________________\n",
            "add_1 (Add)                     (None, 32, 32, 128)  0           bn2a_branchb[0][0]               \n",
            "                                                                 bn2a_branch1[0][0]               \n",
            "__________________________________________________________________________________________________\n",
            "activation_3 (Activation)       (None, 32, 32, 128)  0           add_1[0][0]                      \n",
            "__________________________________________________________________________________________________\n",
            "res3a_branch2a (Conv2D)         (None, 16, 16, 128)  147584      activation_3[0][0]               \n",
            "__________________________________________________________________________________________________\n",
            "bn3a_brancha (BatchNormalizatio (None, 16, 16, 128)  512         res3a_branch2a[0][0]             \n",
            "__________________________________________________________________________________________________\n",
            "activation_4 (Activation)       (None, 16, 16, 128)  0           bn3a_brancha[0][0]               \n",
            "__________________________________________________________________________________________________\n",
            "res3a_branch2c (Conv2D)         (None, 16, 16, 256)  33024       activation_4[0][0]               \n",
            "__________________________________________________________________________________________________\n",
            "res3a_branch1 (Conv2D)          (None, 16, 16, 256)  33024       activation_3[0][0]               \n",
            "__________________________________________________________________________________________________\n",
            "bn3a_branchb (BatchNormalizatio (None, 16, 16, 256)  1024        res3a_branch2c[0][0]             \n",
            "__________________________________________________________________________________________________\n",
            "bn3a_branch1 (BatchNormalizatio (None, 16, 16, 256)  1024        res3a_branch1[0][0]              \n",
            "__________________________________________________________________________________________________\n",
            "add_2 (Add)                     (None, 16, 16, 256)  0           bn3a_branchb[0][0]               \n",
            "                                                                 bn3a_branch1[0][0]               \n",
            "__________________________________________________________________________________________________\n",
            "activation_5 (Activation)       (None, 16, 16, 256)  0           add_2[0][0]                      \n",
            "__________________________________________________________________________________________________\n",
            "res4a_branch2a (Conv2D)         (None, 8, 8, 256)    590080      activation_5[0][0]               \n",
            "__________________________________________________________________________________________________\n",
            "bn4a_brancha (BatchNormalizatio (None, 8, 8, 256)    1024        res4a_branch2a[0][0]             \n",
            "__________________________________________________________________________________________________\n",
            "activation_6 (Activation)       (None, 8, 8, 256)    0           bn4a_brancha[0][0]               \n",
            "__________________________________________________________________________________________________\n",
            "res4a_branch2c (Conv2D)         (None, 8, 8, 512)    131584      activation_6[0][0]               \n",
            "__________________________________________________________________________________________________\n",
            "res4a_branch1 (Conv2D)          (None, 8, 8, 512)    131584      activation_5[0][0]               \n",
            "__________________________________________________________________________________________________\n",
            "bn4a_branchb (BatchNormalizatio (None, 8, 8, 512)    2048        res4a_branch2c[0][0]             \n",
            "__________________________________________________________________________________________________\n",
            "bn4a_branch1 (BatchNormalizatio (None, 8, 8, 512)    2048        res4a_branch1[0][0]              \n",
            "__________________________________________________________________________________________________\n",
            "add_3 (Add)                     (None, 8, 8, 512)    0           bn4a_branchb[0][0]               \n",
            "                                                                 bn4a_branch1[0][0]               \n",
            "__________________________________________________________________________________________________\n",
            "activation_7 (Activation)       (None, 8, 8, 512)    0           add_3[0][0]                      \n",
            "__________________________________________________________________________________________________\n",
            "res5a_branch2a (Conv2D)         (None, 8, 8, 512)    2359808     activation_7[0][0]               \n",
            "__________________________________________________________________________________________________\n",
            "bn5a_brancha (BatchNormalizatio (None, 8, 8, 512)    2048        res5a_branch2a[0][0]             \n",
            "__________________________________________________________________________________________________\n",
            "activation_8 (Activation)       (None, 8, 8, 512)    0           bn5a_brancha[0][0]               \n",
            "__________________________________________________________________________________________________\n",
            "res5a_branch2c (Conv2D)         (None, 8, 8, 512)    262656      activation_8[0][0]               \n",
            "__________________________________________________________________________________________________\n",
            "res5a_branch1 (Conv2D)          (None, 8, 8, 512)    262656      activation_7[0][0]               \n",
            "__________________________________________________________________________________________________\n",
            "bn5a_branchb (BatchNormalizatio (None, 8, 8, 512)    2048        res5a_branch2c[0][0]             \n",
            "__________________________________________________________________________________________________\n",
            "bn5a_branch1 (BatchNormalizatio (None, 8, 8, 512)    2048        res5a_branch1[0][0]              \n",
            "__________________________________________________________________________________________________\n",
            "add_4 (Add)                     (None, 8, 8, 512)    0           bn5a_branchb[0][0]               \n",
            "                                                                 bn5a_branch1[0][0]               \n",
            "__________________________________________________________________________________________________\n",
            "activation_9 (Activation)       (None, 8, 8, 512)    0           add_4[0][0]                      \n",
            "__________________________________________________________________________________________________\n",
            "avg_pool (AveragePooling2D)     (None, 1, 1, 512)    0           activation_9[0][0]               \n",
            "__________________________________________________________________________________________________\n",
            "flatten_1 (Flatten)             (None, 512)          0           avg_pool[0][0]                   \n",
            "__________________________________________________________________________________________________\n",
            "fc10 (Dense)                    (None, 10)           5130        flatten_1[0][0]                  \n",
            "==================================================================================================\n",
            "Total params: 4,027,850\n",
            "Trainable params: 4,020,170\n",
            "Non-trainable params: 7,680\n",
            "__________________________________________________________________________________________________\n"
          ],
          "name": "stdout"
        }
      ]
    },
    {
      "cell_type": "code",
      "metadata": {
        "id": "aUGYFv-gEpqt",
        "colab_type": "code",
        "outputId": "5ca619bf-dded-4d79-cb06-93d1bac950ae",
        "colab": {
          "base_uri": "https://localhost:8080/",
          "height": 108
        }
      },
      "source": [
        "# Compile the model\n",
        "model.compile(loss='categorical_crossentropy',\n",
        "              optimizer=SGD(lr=1e-1, decay = 5e-4, momentum=0.9),\n",
        "              metrics=['accuracy'])\n"
      ],
      "execution_count": 0,
      "outputs": [
        {
          "output_type": "stream",
          "text": [
            "WARNING:tensorflow:From /usr/local/lib/python3.6/dist-packages/keras/optimizers.py:793: The name tf.train.Optimizer is deprecated. Please use tf.compat.v1.train.Optimizer instead.\n",
            "\n",
            "WARNING:tensorflow:From /usr/local/lib/python3.6/dist-packages/keras/backend/tensorflow_backend.py:3576: The name tf.log is deprecated. Please use tf.math.log instead.\n",
            "\n"
          ],
          "name": "stdout"
        }
      ]
    },
    {
      "cell_type": "code",
      "metadata": {
        "id": "GI_LousxFPXa",
        "colab_type": "code",
        "outputId": "a0cefb4e-5a95-4410-a711-d137cc3d84db",
        "colab": {
          "base_uri": "https://localhost:8080/",
          "height": 703
        }
      },
      "source": [
        "import datetime\n",
        "batch_size= 128\n",
        "epochs = 10\n",
        "start = datetime.datetime.now()\n",
        "model_details = model.fit_generator(datagen.flow(x_train, y_train, batch_size=batch_size), \n",
        "                    steps_per_epoch=len(x_train)/batch_size,\n",
        "                    epochs=epochs,\n",
        "                    shuffle=True,\n",
        "                    #callbacks= [checkpoint_1],#LearningRateScheduler(step_decay)],                                    \n",
        "                    validation_data=(x_test, y_test),\n",
        "                    verbose=1)\n",
        "end = datetime.datetime.now()\n",
        "print (\"Model took %0.2f seconds to train\"%(end - start))"
      ],
      "execution_count": 0,
      "outputs": [
        {
          "output_type": "stream",
          "text": [
            "WARNING:tensorflow:From /usr/local/lib/python3.6/dist-packages/tensorflow_core/python/ops/math_grad.py:1424: where (from tensorflow.python.ops.array_ops) is deprecated and will be removed in a future version.\n",
            "Instructions for updating:\n",
            "Use tf.where in 2.0, which has the same broadcast rule as np.where\n",
            "WARNING:tensorflow:From /usr/local/lib/python3.6/dist-packages/keras/backend/tensorflow_backend.py:1033: The name tf.assign_add is deprecated. Please use tf.compat.v1.assign_add instead.\n",
            "\n",
            "WARNING:tensorflow:From /usr/local/lib/python3.6/dist-packages/keras/backend/tensorflow_backend.py:1020: The name tf.assign is deprecated. Please use tf.compat.v1.assign instead.\n",
            "\n",
            "Epoch 1/10\n",
            "391/390 [==============================] - 92s 235ms/step - loss: 1.5708 - acc: 0.4276 - val_loss: 1.2687 - val_acc: 0.5325\n",
            "Epoch 2/10\n",
            "391/390 [==============================] - 84s 216ms/step - loss: 1.1356 - acc: 0.5895 - val_loss: 0.9542 - val_acc: 0.6599\n",
            "Epoch 3/10\n",
            "391/390 [==============================] - 85s 216ms/step - loss: 0.9270 - acc: 0.6716 - val_loss: 0.8224 - val_acc: 0.7081\n",
            "Epoch 4/10\n",
            "391/390 [==============================] - 84s 216ms/step - loss: 0.8046 - acc: 0.7153 - val_loss: 0.7559 - val_acc: 0.7328\n",
            "Epoch 5/10\n",
            "391/390 [==============================] - 84s 216ms/step - loss: 0.7058 - acc: 0.7532 - val_loss: 0.6213 - val_acc: 0.7868\n",
            "Epoch 6/10\n",
            "391/390 [==============================] - 84s 216ms/step - loss: 0.6312 - acc: 0.7802 - val_loss: 0.5913 - val_acc: 0.7936\n",
            "Epoch 7/10\n",
            "391/390 [==============================] - 84s 216ms/step - loss: 0.5807 - acc: 0.7968 - val_loss: 0.5303 - val_acc: 0.8150\n",
            "Epoch 8/10\n",
            "391/390 [==============================] - 85s 216ms/step - loss: 0.5217 - acc: 0.8173 - val_loss: 0.5252 - val_acc: 0.8238\n",
            "Epoch 9/10\n",
            "391/390 [==============================] - 85s 216ms/step - loss: 0.4889 - acc: 0.8307 - val_loss: 0.4996 - val_acc: 0.8263\n",
            "Epoch 10/10\n",
            "391/390 [==============================] - 84s 216ms/step - loss: 0.4585 - acc: 0.8411 - val_loss: 0.4941 - val_acc: 0.8319\n"
          ],
          "name": "stdout"
        },
        {
          "output_type": "error",
          "ename": "TypeError",
          "evalue": "ignored",
          "traceback": [
            "\u001b[0;31m---------------------------------------------------------------------------\u001b[0m",
            "\u001b[0;31mTypeError\u001b[0m                                 Traceback (most recent call last)",
            "\u001b[0;32m<ipython-input-13-94ef390f292d>\u001b[0m in \u001b[0;36m<module>\u001b[0;34m()\u001b[0m\n\u001b[1;32m     11\u001b[0m                     verbose=1)\n\u001b[1;32m     12\u001b[0m \u001b[0mend\u001b[0m \u001b[0;34m=\u001b[0m \u001b[0mdatetime\u001b[0m\u001b[0;34m.\u001b[0m\u001b[0mdatetime\u001b[0m\u001b[0;34m.\u001b[0m\u001b[0mnow\u001b[0m\u001b[0;34m(\u001b[0m\u001b[0;34m)\u001b[0m\u001b[0;34m\u001b[0m\u001b[0;34m\u001b[0m\u001b[0m\n\u001b[0;32m---> 13\u001b[0;31m \u001b[0mprint\u001b[0m \u001b[0;34m(\u001b[0m\u001b[0;34m\"Model took %0.2f seconds to train\"\u001b[0m\u001b[0;34m%\u001b[0m\u001b[0;34m(\u001b[0m\u001b[0mend\u001b[0m \u001b[0;34m-\u001b[0m \u001b[0mstart\u001b[0m\u001b[0;34m)\u001b[0m\u001b[0;34m)\u001b[0m\u001b[0;34m\u001b[0m\u001b[0;34m\u001b[0m\u001b[0m\n\u001b[0m",
            "\u001b[0;31mTypeError\u001b[0m: must be real number, not datetime.timedelta"
          ]
        }
      ]
    }
  ]
}