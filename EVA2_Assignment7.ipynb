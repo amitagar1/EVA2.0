{
  "nbformat": 4,
  "nbformat_minor": 0,
  "metadata": {
    "colab": {
      "name": "EVA2_Assignment7.ipynb",
      "version": "0.3.2",
      "provenance": [],
      "collapsed_sections": [],
      "include_colab_link": true
    },
    "kernelspec": {
      "name": "python3",
      "display_name": "Python 3"
    },
    "accelerator": "GPU"
  },
  "cells": [
    {
      "cell_type": "markdown",
      "metadata": {
        "id": "view-in-github",
        "colab_type": "text"
      },
      "source": [
        "<a href=\"https://colab.research.google.com/github/amitagar1/EVA2.0/blob/master/EVA2_Assignment7.ipynb\" target=\"_parent\"><img src=\"https://colab.research.google.com/assets/colab-badge.svg\" alt=\"Open In Colab\"/></a>"
      ]
    },
    {
      "cell_type": "code",
      "metadata": {
        "id": "Wz-frpbkdGGA",
        "colab_type": "code",
        "outputId": "5aceaa38-a116-4ee4-ec47-909b2b2ccd08",
        "colab": {
          "base_uri": "https://localhost:8080/",
          "height": 35
        }
      },
      "source": [
        "import keras\n",
        "from keras import backend as K\n",
        "import time\n",
        "import matplotlib.pyplot as plt\n",
        "import numpy as np\n",
        "% matplotlib inline\n",
        "np.random.seed(2017) \n",
        "from keras.models import Sequential\n",
        "from keras.layers.convolutional import Convolution2D, MaxPooling2D\n",
        "from keras.layers import Activation, Flatten, Dense, Dropout\n",
        "from keras.layers.normalization import BatchNormalization\n",
        "from keras.utils import np_utils\n"
      ],
      "execution_count": 1,
      "outputs": [
        {
          "output_type": "stream",
          "text": [
            "Using TensorFlow backend.\n"
          ],
          "name": "stderr"
        }
      ]
    },
    {
      "cell_type": "code",
      "metadata": {
        "id": "emYhj1n2DHo4",
        "colab_type": "code",
        "colab": {}
      },
      "source": [
        "from keras.models import Model, Sequential\n",
        "from keras.layers import Dense, Dropout, Flatten, Input, AveragePooling2D, merge, Activation\n",
        "from keras.layers import Conv2D, MaxPooling2D, BatchNormalization\n",
        "from keras.layers import Concatenate\n",
        "from keras.optimizers import Adam\n",
        "from keras.layers.advanced_activations import LeakyReLU\n",
        "from keras.layers import Reshape, Activation, Conv2D, SeparableConv2D, Input, MaxPooling2D, BatchNormalization, Flatten, Dense, Lambda\n",
        "from keras.layers.merge import concatenate"
      ],
      "execution_count": 0,
      "outputs": []
    },
    {
      "cell_type": "code",
      "metadata": {
        "id": "20eS_t3YetHE",
        "colab_type": "code",
        "colab": {}
      },
      "source": [
        "from keras.datasets import cifar10\n",
        "\n",
        "(train_features, train_labels), (test_features, test_labels) = cifar10.load_data()\n",
        "\n",
        "num_train, img_rows, img_cols,img_channels =  train_features.shape\n",
        "\n",
        "num_test, _, _, _ =  test_features.shape\n",
        "\n",
        "num_classes = len(np.unique(train_labels))"
      ],
      "execution_count": 0,
      "outputs": []
    },
    {
      "cell_type": "code",
      "metadata": {
        "id": "fbUAVwiMDfHP",
        "colab_type": "code",
        "outputId": "19b1b32e-7552-49d9-f620-ecd6598cb907",
        "colab": {
          "base_uri": "https://localhost:8080/",
          "height": 35
        }
      },
      "source": [
        "train_features.shape"
      ],
      "execution_count": 52,
      "outputs": [
        {
          "output_type": "execute_result",
          "data": {
            "text/plain": [
              "(50000, 32, 32, 3)"
            ]
          },
          "metadata": {
            "tags": []
          },
          "execution_count": 52
        }
      ]
    },
    {
      "cell_type": "code",
      "metadata": {
        "id": "-ElpcnDse6ca",
        "colab_type": "code",
        "colab": {
          "base_uri": "https://localhost:8080/",
          "height": 35
        },
        "outputId": "22b39b99-873a-4471-9bf5-ee49e223c742"
      },
      "source": [
        "img_channels"
      ],
      "execution_count": 60,
      "outputs": [
        {
          "output_type": "execute_result",
          "data": {
            "text/plain": [
              "3"
            ]
          },
          "metadata": {
            "tags": []
          },
          "execution_count": 60
        }
      ]
    },
    {
      "cell_type": "code",
      "metadata": {
        "id": "G_A9usOCet03",
        "colab_type": "code",
        "outputId": "1fba54c8-42be-4a90-eee8-c5193699aef5",
        "colab": {
          "base_uri": "https://localhost:8080/",
          "height": 213
        }
      },
      "source": [
        "class_names = ['airplane','automobile','bird','cat','deer','dog','frog','horse','ship','truck']\n",
        "fig = plt.figure(figsize=(8,3))\n",
        "for i in range(num_classes):\n",
        "    ax = fig.add_subplot(2, 5, 1 + i, xticks=[], yticks=[])\n",
        "    idx = np.where(train_labels[:]==i)[0]\n",
        "    features_idx = train_features[idx,::]\n",
        "    img_num = np.random.randint(features_idx.shape[0])\n",
        "    im = features_idx[img_num]\n",
        "    ax.set_title(class_names[i])\n",
        "    plt.imshow(im)\n",
        "plt.show()"
      ],
      "execution_count": 53,
      "outputs": [
        {
          "output_type": "display_data",
          "data": {
            "image/png": "[encoded data removed]",
            "text/plain": [
              "<Figure size 576x216 with 10 Axes>"
            ]
          },
          "metadata": {
            "tags": []
          }
        }
      ]
    },
    {
      "cell_type": "code",
      "metadata": {
        "id": "zAMlUZW5etxX",
        "colab_type": "code",
        "colab": {}
      },
      "source": [
        "train_features = train_features.astype('float32')/255\n",
        "test_features = test_features.astype('float32')/255\n",
        "\n",
        "# convert class labels to binary class labels\n",
        "train_labels = np_utils.to_categorical(train_labels, num_classes)\n",
        "test_labels = np_utils.to_categorical(test_labels, num_classes)\n",
        "\n"
      ],
      "execution_count": 0,
      "outputs": []
    },
    {
      "cell_type": "code",
      "metadata": {
        "id": "paaM3KsRfJ8c",
        "colab_type": "code",
        "colab": {
          "base_uri": "https://localhost:8080/",
          "height": 35
        },
        "outputId": "b005014f-93b7-40cb-ba2c-3e2a74f8d099"
      },
      "source": [
        "input"
      ],
      "execution_count": 68,
      "outputs": [
        {
          "output_type": "execute_result",
          "data": {
            "text/plain": [
              "<tf.Tensor 'input_23:0' shape=(?, 32, 32, 3) dtype=float32>"
            ]
          },
          "metadata": {
            "tags": []
          },
          "execution_count": 68
        }
      ]
    },
    {
      "cell_type": "code",
      "metadata": {
        "id": "pRXmzphhgV9J",
        "colab_type": "code",
        "colab": {}
      },
      "source": [
        "def space_to_depth_x2(x):\n",
        "    return tf.space_to_depth(x, block_size=2)"
      ],
      "execution_count": 0,
      "outputs": []
    },
    {
      "cell_type": "code",
      "metadata": {
        "id": "AkVahAITDNYY",
        "colab_type": "code",
        "colab": {}
      },
      "source": [
        "\n",
        "input = Input(shape=(img_rows, img_cols, img_channels))\n",
        "\n",
        "# BLock1\n",
        "\n",
        "b1_sep1 = SeparableConv2D(filters = 256, kernel_size=(5,5), \n",
        "            padding = 'same', strides = (1,1),  depth_multiplier = 10, \n",
        "            use_bias='False', name='b1_sep1')(input)\n",
        "\n",
        "b1_con1 = Conv2D(24, (5,5), strides=(1,1), padding='same',activation='relu', name='b1_conv1', use_bias=False)(b1_sep1)\n",
        "\n",
        "b1_con2 = Conv2D(64, (5,5), strides=(1,1), padding='same',activation='relu', name='b1_conv2', use_bias=False)(b1_con1)\n",
        "\n",
        "b1_sep2 = SeparableConv2D(128, kernel_size=(5, 5), \n",
        "            padding = 'same', strides = (1,1), \n",
        "                          depth_multiplier = 1, use_bias='False', name='b1_sep2')(b1_con2)\n",
        "\n",
        "b1_max1 = MaxPooling2D(pool_size=(2, 2))(b1_sep2)\n",
        "\n",
        "\n",
        "# BLock2\n",
        "\n",
        "b2_sep1 = SeparableConv2D(256, kernel_size=(3,3), \n",
        "            padding = 'same', strides = (1,1),  depth_multiplier = 1, \n",
        "             use_bias='False', name='b2_sep1')(b1_max1)\n",
        "\n",
        "b2_con1 = Conv2D(64, (3,3), strides=(1,1), padding='same', activation='relu', name='b2_conv1', use_bias=False)(b2_sep1)\n",
        "\n",
        "\n",
        "b2_sep2 = SeparableConv2D(256, kernel_size=(3,3), \n",
        "            padding = 'same', strides = (1,1),  depth_multiplier = 1, \n",
        "             use_bias='False', name='b2_sep2')(b2_con1)\n",
        "\n",
        "\n",
        "b2_sep3 = SeparableConv2D(256, kernel_size=(3, 3), \n",
        "            padding = 'same', strides = (1,1),  \n",
        "                          depth_multiplier = 1, use_bias='False', name='b2_sep3')(b2_sep2)\n",
        "\n",
        "b2_max1 = MaxPooling2D(pool_size=(2, 2))(b2_sep3)\n",
        "\n",
        "\n",
        "# BLock3\n",
        "\n",
        "\n",
        "b3_con1 = Conv2D(64, (3,3), strides=(1,1), padding='same', activation='relu', name='b3_conv1', use_bias=False)(b2_max1)\n",
        "\n",
        "\n",
        "b3_sep1 = SeparableConv2D(64, kernel_size=(3,3), \n",
        "            padding = 'same', strides = (1,1),  depth_multiplier = 1, \n",
        "            use_bias='False', name='b3_sep1')(b3_con1)\n",
        "\n",
        "b3_con2 = Conv2D(256, (3,3), strides=(1,1), padding='same', activation='relu', name='b3_conv2', use_bias=False)(b3_sep1)\n",
        "\n",
        "\n",
        "b3_sep2 = SeparableConv2D(128, kernel_size=(3,3), \n",
        "            padding = 'same', strides = (1,1),  \n",
        "                          depth_multiplier = 1, use_bias='False', name='b3_sep2')(b3_con2)\n",
        "\n",
        "Fl_1  = Flatten()(b3_sep2)\n",
        "\n",
        "output = Dense(10, activation='softmax')(Fl_1)"
      ],
      "execution_count": 0,
      "outputs": []
    },
    {
      "cell_type": "code",
      "metadata": {
        "id": "N6NeAbB2ItF4",
        "colab_type": "code",
        "outputId": "77b25053-ca6c-4377-9e83-5c42382e37b9",
        "colab": {
          "base_uri": "https://localhost:8080/",
          "height": 764
        }
      },
      "source": [
        "model = Model(inputs=[input], outputs=[output])\n",
        "model.summary()\n"
      ],
      "execution_count": 86,
      "outputs": [
        {
          "output_type": "stream",
          "text": [
            "Model: \"model_14\"\n",
            "_________________________________________________________________\n",
            "Layer (type)                 Output Shape              Param #   \n",
            "=================================================================\n",
            "input_28 (InputLayer)        (None, 32, 32, 3)         0         \n",
            "_________________________________________________________________\n",
            "b1_sep1 (SeparableConv2D)    (None, 32, 32, 256)       8686      \n",
            "_________________________________________________________________\n",
            "b1_conv1 (Conv2D)            (None, 32, 32, 24)        153600    \n",
            "_________________________________________________________________\n",
            "b1_conv2 (Conv2D)            (None, 32, 32, 64)        38400     \n",
            "_________________________________________________________________\n",
            "b1_sep2 (SeparableConv2D)    (None, 32, 32, 128)       9920      \n",
            "_________________________________________________________________\n",
            "max_pooling2d_40 (MaxPooling (None, 16, 16, 128)       0         \n",
            "_________________________________________________________________\n",
            "b2_sep1 (SeparableConv2D)    (None, 16, 16, 256)       34176     \n",
            "_________________________________________________________________\n",
            "b2_conv1 (Conv2D)            (None, 16, 16, 64)        147456    \n",
            "_________________________________________________________________\n",
            "b2_sep2 (SeparableConv2D)    (None, 16, 16, 256)       17216     \n",
            "_________________________________________________________________\n",
            "b2_sep3 (SeparableConv2D)    (None, 16, 16, 256)       68096     \n",
            "_________________________________________________________________\n",
            "max_pooling2d_41 (MaxPooling (None, 8, 8, 256)         0         \n",
            "_________________________________________________________________\n",
            "b3_conv1 (Conv2D)            (None, 8, 8, 64)          147456    \n",
            "_________________________________________________________________\n",
            "b3_sep1 (SeparableConv2D)    (None, 8, 8, 64)          4736      \n",
            "_________________________________________________________________\n",
            "b3_conv2 (Conv2D)            (None, 8, 8, 256)         147456    \n",
            "_________________________________________________________________\n",
            "b3_sep2 (SeparableConv2D)    (None, 8, 8, 128)         35200     \n",
            "_________________________________________________________________\n",
            "flatten_19 (Flatten)         (None, 8192)              0         \n",
            "_________________________________________________________________\n",
            "dense_19 (Dense)             (None, 10)                81930     \n",
            "=================================================================\n",
            "Total params: 894,328\n",
            "Trainable params: 894,328\n",
            "Non-trainable params: 0\n",
            "_________________________________________________________________\n"
          ],
          "name": "stdout"
        }
      ]
    },
    {
      "cell_type": "code",
      "metadata": {
        "id": "K6ZsSAmUIxW3",
        "colab_type": "code",
        "colab": {}
      },
      "source": [
        "model.compile(loss='categorical_crossentropy',\n",
        "              optimizer=Adam(),\n",
        "              metrics=['accuracy'])"
      ],
      "execution_count": 0,
      "outputs": []
    },
    {
      "cell_type": "code",
      "metadata": {
        "id": "C7oJcrwaIycj",
        "colab_type": "code",
        "outputId": "54e06fbe-4b9e-461b-9657-0bf81b69d3bb",
        "colab": {
          "base_uri": "https://localhost:8080/",
          "height": 428
        }
      },
      "source": [
        "model.fit(train_features, train_labels,\n",
        "                    batch_size=128,\n",
        "                    epochs=10,\n",
        "                    verbose=1,\n",
        "                    validation_data=(test_features, test_labels))"
      ],
      "execution_count": 88,
      "outputs": [
        {
          "output_type": "stream",
          "text": [
            "Train on 50000 samples, validate on 10000 samples\n",
            "Epoch 1/10\n",
            "50000/50000 [==============================] - 83s 2ms/step - loss: 2.3036 - acc: 0.1004 - val_loss: 2.3031 - val_acc: 0.1000\n",
            "Epoch 2/10\n",
            "50000/50000 [==============================] - 78s 2ms/step - loss: 2.3034 - acc: 0.0990 - val_loss: 2.3030 - val_acc: 0.1000\n",
            "Epoch 3/10\n",
            "50000/50000 [==============================] - 77s 2ms/step - loss: 2.3036 - acc: 0.1003 - val_loss: 2.3029 - val_acc: 0.1000\n",
            "Epoch 4/10\n",
            "50000/50000 [==============================] - 77s 2ms/step - loss: 2.3037 - acc: 0.0983 - val_loss: 2.3030 - val_acc: 0.1000\n",
            "Epoch 5/10\n",
            "50000/50000 [==============================] - 77s 2ms/step - loss: 2.3037 - acc: 0.1004 - val_loss: 2.3048 - val_acc: 0.1000\n",
            "Epoch 6/10\n",
            "50000/50000 [==============================] - 77s 2ms/step - loss: 2.3033 - acc: 0.1019 - val_loss: 2.3029 - val_acc: 0.1000\n",
            "Epoch 7/10\n",
            "50000/50000 [==============================] - 77s 2ms/step - loss: 2.3036 - acc: 0.1002 - val_loss: 2.3030 - val_acc: 0.1000\n",
            "Epoch 8/10\n",
            "50000/50000 [==============================] - 77s 2ms/step - loss: 2.3035 - acc: 0.0983 - val_loss: 2.3030 - val_acc: 0.1000\n",
            "Epoch 9/10\n",
            "50000/50000 [==============================] - 76s 2ms/step - loss: 2.3038 - acc: 0.0993 - val_loss: 2.3034 - val_acc: 0.1000\n",
            "Epoch 10/10\n",
            "50000/50000 [==============================] - 77s 2ms/step - loss: 2.3038 - acc: 0.0981 - val_loss: 2.3031 - val_acc: 0.1000\n"
          ],
          "name": "stdout"
        },
        {
          "output_type": "execute_result",
          "data": {
            "text/plain": [
              "<keras.callbacks.History at 0x7f74d8da1630>"
            ]
          },
          "metadata": {
            "tags": []
          },
          "execution_count": 88
        }
      ]
    },
    {
      "cell_type": "code",
      "metadata": {
        "id": "TWEsxQ8eE8yo",
        "colab_type": "code",
        "colab": {}
      },
      "source": [
        ""
      ],
      "execution_count": 0,
      "outputs": []
    }
  ]
}